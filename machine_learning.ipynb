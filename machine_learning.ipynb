{
 "cells": [
  {
   "cell_type": "code",
   "execution_count": 1,
   "metadata": {},
   "outputs": [],
   "source": [
    "import pandas as pd\n",
    "import numpy as np"
   ]
  },
  {
   "cell_type": "code",
   "execution_count": 19,
   "metadata": {},
   "outputs": [
    {
     "data": {
      "text/html": [
       "<div>\n",
       "<style scoped>\n",
       "    .dataframe tbody tr th:only-of-type {\n",
       "        vertical-align: middle;\n",
       "    }\n",
       "\n",
       "    .dataframe tbody tr th {\n",
       "        vertical-align: top;\n",
       "    }\n",
       "\n",
       "    .dataframe thead th {\n",
       "        text-align: right;\n",
       "    }\n",
       "</style>\n",
       "<table border=\"1\" class=\"dataframe\">\n",
       "  <thead>\n",
       "    <tr style=\"text-align: right;\">\n",
       "      <th></th>\n",
       "      <th>Date</th>\n",
       "      <th>Time</th>\n",
       "      <th>Nom du fichier</th>\n",
       "      <th>Durée de déplacement</th>\n",
       "      <th>Distance</th>\n",
       "      <th>Fréquence cardiaque moyenne</th>\n",
       "      <th>Fréquence cardiaque maximum</th>\n",
       "      <th>Vitesse moyenne</th>\n",
       "      <th>Cadence moyenne</th>\n",
       "      <th>Puissance moyenne</th>\n",
       "      <th>...</th>\n",
       "      <th>new_relative_effort</th>\n",
       "      <th>TSS</th>\n",
       "      <th>HRR</th>\n",
       "      <th>trimp</th>\n",
       "      <th>HRSS</th>\n",
       "      <th>Fitness</th>\n",
       "      <th>Fitness Diff</th>\n",
       "      <th>Fatigue</th>\n",
       "      <th>Fatigue Diff</th>\n",
       "      <th>Form</th>\n",
       "    </tr>\n",
       "  </thead>\n",
       "  <tbody>\n",
       "    <tr>\n",
       "      <th>0</th>\n",
       "      <td>2014-04-15</td>\n",
       "      <td>14:35:30</td>\n",
       "      <td>activities/142879521.tcx.gz</td>\n",
       "      <td>112.52</td>\n",
       "      <td>47.67</td>\n",
       "      <td>127.316002</td>\n",
       "      <td>176.0</td>\n",
       "      <td>NaN</td>\n",
       "      <td>73.387299</td>\n",
       "      <td>219.221359</td>\n",
       "      <td>...</td>\n",
       "      <td>63.0</td>\n",
       "      <td>NaN</td>\n",
       "      <td>0.498528</td>\n",
       "      <td>93.0</td>\n",
       "      <td>55.0</td>\n",
       "      <td>1.3</td>\n",
       "      <td>1.3</td>\n",
       "      <td>7.3</td>\n",
       "      <td>7.3</td>\n",
       "      <td>NaN</td>\n",
       "    </tr>\n",
       "    <tr>\n",
       "      <th>1</th>\n",
       "      <td>2014-04-17</td>\n",
       "      <td>14:29:30</td>\n",
       "      <td>activities/143568422.tcx.gz</td>\n",
       "      <td>73.92</td>\n",
       "      <td>33.36</td>\n",
       "      <td>130.358002</td>\n",
       "      <td>182.0</td>\n",
       "      <td>NaN</td>\n",
       "      <td>79.790298</td>\n",
       "      <td>241.315857</td>\n",
       "      <td>...</td>\n",
       "      <td>83.0</td>\n",
       "      <td>NaN</td>\n",
       "      <td>0.522864</td>\n",
       "      <td>68.0</td>\n",
       "      <td>40.0</td>\n",
       "      <td>2.2</td>\n",
       "      <td>0.9</td>\n",
       "      <td>10.8</td>\n",
       "      <td>4.5</td>\n",
       "      <td>-5.0</td>\n",
       "    </tr>\n",
       "    <tr>\n",
       "      <th>2</th>\n",
       "      <td>2014-04-19</td>\n",
       "      <td>10:56:24</td>\n",
       "      <td>activities/144313052.tcx.gz</td>\n",
       "      <td>217.67</td>\n",
       "      <td>85.62</td>\n",
       "      <td>139.462006</td>\n",
       "      <td>183.0</td>\n",
       "      <td>NaN</td>\n",
       "      <td>72.434898</td>\n",
       "      <td>234.804291</td>\n",
       "      <td>...</td>\n",
       "      <td>218.0</td>\n",
       "      <td>NaN</td>\n",
       "      <td>0.595696</td>\n",
       "      <td>260.0</td>\n",
       "      <td>153.0</td>\n",
       "      <td>5.7</td>\n",
       "      <td>3.5</td>\n",
       "      <td>28.5</td>\n",
       "      <td>19.1</td>\n",
       "      <td>-7.3</td>\n",
       "    </tr>\n",
       "    <tr>\n",
       "      <th>3</th>\n",
       "      <td>2014-04-21</td>\n",
       "      <td>14:27:58</td>\n",
       "      <td>activities/145168490.tcx.gz</td>\n",
       "      <td>50.32</td>\n",
       "      <td>25.62</td>\n",
       "      <td>111.242996</td>\n",
       "      <td>144.0</td>\n",
       "      <td>NaN</td>\n",
       "      <td>96.695900</td>\n",
       "      <td>184.828018</td>\n",
       "      <td>...</td>\n",
       "      <td>11.0</td>\n",
       "      <td>NaN</td>\n",
       "      <td>0.369944</td>\n",
       "      <td>24.0</td>\n",
       "      <td>14.0</td>\n",
       "      <td>5.7</td>\n",
       "      <td>0.2</td>\n",
       "      <td>23.3</td>\n",
       "      <td>-1.4</td>\n",
       "      <td>-19.2</td>\n",
       "    </tr>\n",
       "    <tr>\n",
       "      <th>4</th>\n",
       "      <td>2014-04-22</td>\n",
       "      <td>12:44:13</td>\n",
       "      <td>activities/145556830.tcx.gz</td>\n",
       "      <td>202.33</td>\n",
       "      <td>88.02</td>\n",
       "      <td>143.753006</td>\n",
       "      <td>174.0</td>\n",
       "      <td>NaN</td>\n",
       "      <td>76.811096</td>\n",
       "      <td>240.926056</td>\n",
       "      <td>...</td>\n",
       "      <td>172.0</td>\n",
       "      <td>NaN</td>\n",
       "      <td>0.630024</td>\n",
       "      <td>273.0</td>\n",
       "      <td>161.0</td>\n",
       "      <td>9.4</td>\n",
       "      <td>3.7</td>\n",
       "      <td>41.6</td>\n",
       "      <td>18.3</td>\n",
       "      <td>-17.6</td>\n",
       "    </tr>\n",
       "    <tr>\n",
       "      <th>...</th>\n",
       "      <td>...</td>\n",
       "      <td>...</td>\n",
       "      <td>...</td>\n",
       "      <td>...</td>\n",
       "      <td>...</td>\n",
       "      <td>...</td>\n",
       "      <td>...</td>\n",
       "      <td>...</td>\n",
       "      <td>...</td>\n",
       "      <td>...</td>\n",
       "      <td>...</td>\n",
       "      <td>...</td>\n",
       "      <td>...</td>\n",
       "      <td>...</td>\n",
       "      <td>...</td>\n",
       "      <td>...</td>\n",
       "      <td>...</td>\n",
       "      <td>...</td>\n",
       "      <td>...</td>\n",
       "      <td>...</td>\n",
       "      <td>...</td>\n",
       "    </tr>\n",
       "    <tr>\n",
       "      <th>1172</th>\n",
       "      <td>2023-02-15</td>\n",
       "      <td>09:29:58</td>\n",
       "      <td>activities/9194335010.fit.gz</td>\n",
       "      <td>25.45</td>\n",
       "      <td>18.11</td>\n",
       "      <td>155.882782</td>\n",
       "      <td>NaN</td>\n",
       "      <td>42.70</td>\n",
       "      <td>94.063995</td>\n",
       "      <td>375.270477</td>\n",
       "      <td>...</td>\n",
       "      <td>34.0</td>\n",
       "      <td>47.0</td>\n",
       "      <td>0.727062</td>\n",
       "      <td>48.0</td>\n",
       "      <td>28.0</td>\n",
       "      <td>33.5</td>\n",
       "      <td>-0.7</td>\n",
       "      <td>53.9</td>\n",
       "      <td>-7.5</td>\n",
       "      <td>-27.2</td>\n",
       "    </tr>\n",
       "    <tr>\n",
       "      <th>1173</th>\n",
       "      <td>2023-02-16</td>\n",
       "      <td>10:59:50</td>\n",
       "      <td>activities/9201718878.fit.gz</td>\n",
       "      <td>218.73</td>\n",
       "      <td>139.03</td>\n",
       "      <td>147.699341</td>\n",
       "      <td>NaN</td>\n",
       "      <td>38.14</td>\n",
       "      <td>83.431664</td>\n",
       "      <td>290.123718</td>\n",
       "      <td>...</td>\n",
       "      <td>220.0</td>\n",
       "      <td>281.0</td>\n",
       "      <td>0.661595</td>\n",
       "      <td>330.0</td>\n",
       "      <td>194.0</td>\n",
       "      <td>37.3</td>\n",
       "      <td>3.8</td>\n",
       "      <td>72.6</td>\n",
       "      <td>18.6</td>\n",
       "      <td>-20.4</td>\n",
       "    </tr>\n",
       "    <tr>\n",
       "      <th>1174</th>\n",
       "      <td>2023-02-16</td>\n",
       "      <td>10:31:27</td>\n",
       "      <td>activities/9201719852.fit.gz</td>\n",
       "      <td>8.97</td>\n",
       "      <td>4.04</td>\n",
       "      <td>107.026070</td>\n",
       "      <td>NaN</td>\n",
       "      <td>27.03</td>\n",
       "      <td>69.140045</td>\n",
       "      <td>168.564240</td>\n",
       "      <td>...</td>\n",
       "      <td>1.0</td>\n",
       "      <td>4.0</td>\n",
       "      <td>0.336209</td>\n",
       "      <td>4.0</td>\n",
       "      <td>2.0</td>\n",
       "      <td>37.3</td>\n",
       "      <td>3.8</td>\n",
       "      <td>72.6</td>\n",
       "      <td>18.6</td>\n",
       "      <td>-20.4</td>\n",
       "    </tr>\n",
       "    <tr>\n",
       "      <th>1175</th>\n",
       "      <td>2023-02-17</td>\n",
       "      <td>09:39:32</td>\n",
       "      <td>activities/9206565665.fit.gz</td>\n",
       "      <td>143.42</td>\n",
       "      <td>73.94</td>\n",
       "      <td>105.816284</td>\n",
       "      <td>NaN</td>\n",
       "      <td>30.93</td>\n",
       "      <td>75.174011</td>\n",
       "      <td>185.966919</td>\n",
       "      <td>...</td>\n",
       "      <td>19.0</td>\n",
       "      <td>86.0</td>\n",
       "      <td>0.326530</td>\n",
       "      <td>56.0</td>\n",
       "      <td>33.0</td>\n",
       "      <td>37.2</td>\n",
       "      <td>-0.1</td>\n",
       "      <td>67.3</td>\n",
       "      <td>-5.3</td>\n",
       "      <td>-35.3</td>\n",
       "    </tr>\n",
       "    <tr>\n",
       "      <th>1176</th>\n",
       "      <td>2023-02-18</td>\n",
       "      <td>09:35:14</td>\n",
       "      <td>activities/9212811005.fit.gz</td>\n",
       "      <td>224.88</td>\n",
       "      <td>123.64</td>\n",
       "      <td>113.648216</td>\n",
       "      <td>NaN</td>\n",
       "      <td>32.99</td>\n",
       "      <td>75.374855</td>\n",
       "      <td>217.386063</td>\n",
       "      <td>...</td>\n",
       "      <td>45.0</td>\n",
       "      <td>162.0</td>\n",
       "      <td>0.389186</td>\n",
       "      <td>118.0</td>\n",
       "      <td>69.0</td>\n",
       "      <td>37.9</td>\n",
       "      <td>0.7</td>\n",
       "      <td>67.5</td>\n",
       "      <td>0.2</td>\n",
       "      <td>-30.1</td>\n",
       "    </tr>\n",
       "  </tbody>\n",
       "</table>\n",
       "<p>1177 rows × 24 columns</p>\n",
       "</div>"
      ],
      "text/plain": [
       "            Date      Time                Nom du fichier  \\\n",
       "0     2014-04-15  14:35:30   activities/142879521.tcx.gz   \n",
       "1     2014-04-17  14:29:30   activities/143568422.tcx.gz   \n",
       "2     2014-04-19  10:56:24   activities/144313052.tcx.gz   \n",
       "3     2014-04-21  14:27:58   activities/145168490.tcx.gz   \n",
       "4     2014-04-22  12:44:13   activities/145556830.tcx.gz   \n",
       "...          ...       ...                           ...   \n",
       "1172  2023-02-15  09:29:58  activities/9194335010.fit.gz   \n",
       "1173  2023-02-16  10:59:50  activities/9201718878.fit.gz   \n",
       "1174  2023-02-16  10:31:27  activities/9201719852.fit.gz   \n",
       "1175  2023-02-17  09:39:32  activities/9206565665.fit.gz   \n",
       "1176  2023-02-18  09:35:14  activities/9212811005.fit.gz   \n",
       "\n",
       "      Durée de déplacement  Distance  Fréquence cardiaque moyenne  \\\n",
       "0                   112.52     47.67                   127.316002   \n",
       "1                    73.92     33.36                   130.358002   \n",
       "2                   217.67     85.62                   139.462006   \n",
       "3                    50.32     25.62                   111.242996   \n",
       "4                   202.33     88.02                   143.753006   \n",
       "...                    ...       ...                          ...   \n",
       "1172                 25.45     18.11                   155.882782   \n",
       "1173                218.73    139.03                   147.699341   \n",
       "1174                  8.97      4.04                   107.026070   \n",
       "1175                143.42     73.94                   105.816284   \n",
       "1176                224.88    123.64                   113.648216   \n",
       "\n",
       "      Fréquence cardiaque maximum  Vitesse moyenne  Cadence moyenne  \\\n",
       "0                           176.0              NaN        73.387299   \n",
       "1                           182.0              NaN        79.790298   \n",
       "2                           183.0              NaN        72.434898   \n",
       "3                           144.0              NaN        96.695900   \n",
       "4                           174.0              NaN        76.811096   \n",
       "...                           ...              ...              ...   \n",
       "1172                          NaN            42.70        94.063995   \n",
       "1173                          NaN            38.14        83.431664   \n",
       "1174                          NaN            27.03        69.140045   \n",
       "1175                          NaN            30.93        75.174011   \n",
       "1176                          NaN            32.99        75.374855   \n",
       "\n",
       "      Puissance moyenne  ...  new_relative_effort    TSS       HRR  trimp  \\\n",
       "0            219.221359  ...                 63.0    NaN  0.498528   93.0   \n",
       "1            241.315857  ...                 83.0    NaN  0.522864   68.0   \n",
       "2            234.804291  ...                218.0    NaN  0.595696  260.0   \n",
       "3            184.828018  ...                 11.0    NaN  0.369944   24.0   \n",
       "4            240.926056  ...                172.0    NaN  0.630024  273.0   \n",
       "...                 ...  ...                  ...    ...       ...    ...   \n",
       "1172         375.270477  ...                 34.0   47.0  0.727062   48.0   \n",
       "1173         290.123718  ...                220.0  281.0  0.661595  330.0   \n",
       "1174         168.564240  ...                  1.0    4.0  0.336209    4.0   \n",
       "1175         185.966919  ...                 19.0   86.0  0.326530   56.0   \n",
       "1176         217.386063  ...                 45.0  162.0  0.389186  118.0   \n",
       "\n",
       "       HRSS  Fitness  Fitness Diff  Fatigue  Fatigue Diff  Form  \n",
       "0      55.0      1.3           1.3      7.3           7.3   NaN  \n",
       "1      40.0      2.2           0.9     10.8           4.5  -5.0  \n",
       "2     153.0      5.7           3.5     28.5          19.1  -7.3  \n",
       "3      14.0      5.7           0.2     23.3          -1.4 -19.2  \n",
       "4     161.0      9.4           3.7     41.6          18.3 -17.6  \n",
       "...     ...      ...           ...      ...           ...   ...  \n",
       "1172   28.0     33.5          -0.7     53.9          -7.5 -27.2  \n",
       "1173  194.0     37.3           3.8     72.6          18.6 -20.4  \n",
       "1174    2.0     37.3           3.8     72.6          18.6 -20.4  \n",
       "1175   33.0     37.2          -0.1     67.3          -5.3 -35.3  \n",
       "1176   69.0     37.9           0.7     67.5           0.2 -30.1  \n",
       "\n",
       "[1177 rows x 24 columns]"
      ]
     },
     "execution_count": 19,
     "metadata": {},
     "output_type": "execute_result"
    }
   ],
   "source": [
    "# load data\n",
    "\n",
    "df = pd.read_csv('data/athlete_profile_dataset.csv', index_col='Unnamed: 0')\n",
    "df"
   ]
  },
  {
   "cell_type": "code",
   "execution_count": 20,
   "metadata": {},
   "outputs": [
    {
     "data": {
      "text/plain": [
       "Date                             0\n",
       "Time                             0\n",
       "Nom du fichier                   0\n",
       "Durée de déplacement             0\n",
       "Distance                         0\n",
       "Fréquence cardiaque moyenne      0\n",
       "Fréquence cardiaque maximum    344\n",
       "Vitesse moyenne                652\n",
       "Cadence moyenne                124\n",
       "Puissance moyenne                3\n",
       "Poids de l'athlète             341\n",
       "Puissance moyenne pondérée     206\n",
       "intensity_score                206\n",
       "Mesure d'effort                 50\n",
       "new_relative_effort              0\n",
       "TSS                            206\n",
       "HRR                              0\n",
       "trimp                            0\n",
       "HRSS                             0\n",
       "Fitness                          0\n",
       "Fitness Diff                     0\n",
       "Fatigue                          0\n",
       "Fatigue Diff                     0\n",
       "Form                             1\n",
       "dtype: int64"
      ]
     },
     "execution_count": 20,
     "metadata": {},
     "output_type": "execute_result"
    }
   ],
   "source": [
    "df.isna().sum()"
   ]
  },
  {
   "attachments": {},
   "cell_type": "markdown",
   "metadata": {},
   "source": [
    "## First Model"
   ]
  },
  {
   "cell_type": "code",
   "execution_count": 21,
   "metadata": {},
   "outputs": [],
   "source": [
    "df_model = df.copy()\n",
    "\n",
    "df_model['Vitesse moyenne'] = df_model['Vitesse moyenne'].fillna(df_model['Vitesse moyenne'].mean())\n",
    "df_model['Cadence moyenne'] = df_model['Cadence moyenne'].fillna(df_model['Cadence moyenne'].mean())\n",
    "df_model['Puissance moyenne'] = df_model['Puissance moyenne'].fillna(df_model['Puissance moyenne'].mean())\n",
    "\n",
    "df_model.dropna(subset=['Puissance moyenne pondérée', 'intensity_score', 'Mesure d\\'effort'], inplace=True)"
   ]
  },
  {
   "cell_type": "code",
   "execution_count": 22,
   "metadata": {},
   "outputs": [
    {
     "name": "stdout",
     "output_type": "stream",
     "text": [
      "Mean squared error: 90.39859767837838\n"
     ]
    }
   ],
   "source": [
    "from sklearn.linear_model import LinearRegression\n",
    "from sklearn.ensemble import RandomForestRegressor\n",
    "from sklearn.model_selection import train_test_split\n",
    "from sklearn.impute import SimpleImputer\n",
    "from sklearn.metrics import mean_squared_error\n",
    "\n",
    "\n",
    "# Split data into X and y\n",
    "X = df_model[['Distance', 'Vitesse moyenne', 'Fréquence cardiaque moyenne', \"Durée de déplacement\", \"Cadence moyenne\", \"Puissance moyenne pondérée\", 'intensity_score',\n",
    "       \"Mesure d'effort\", 'TSS', 'HRR', 'trimp', 'HRSS']]\n",
    "y = df_model[['Fitness', 'Fatigue']]\n",
    "\n",
    "# Split data into training and testing sets\n",
    "X_train, X_test, y_train, y_test = train_test_split(X, y, test_size=0.2, random_state=42)\n",
    "\n",
    "# Impute missing values with the mean value along each column\n",
    "imputer = SimpleImputer()\n",
    "X_train = imputer.fit_transform(X_train)\n",
    "X_test = imputer.transform(X_test)\n",
    "\n",
    "# Train the model\n",
    "model = RandomForestRegressor(n_estimators=100, random_state=42)\n",
    "model.fit(X_train, y_train)\n",
    "\n",
    "# Predict on test set\n",
    "y_pred = model.predict(X_test)\n",
    "\n",
    "# Calculate mean squared error\n",
    "mse = mean_squared_error(y_test, y_pred)\n",
    "print(f\"Mean squared error: {mse}\")"
   ]
  },
  {
   "cell_type": "code",
   "execution_count": 23,
   "metadata": {},
   "outputs": [
    {
     "name": "stdout",
     "output_type": "stream",
     "text": [
      "[[38.705 34.002]\n",
      " [35.397 33.176]\n",
      " [32.9   36.573]\n",
      " [35.273 40.793]\n",
      " [35.33  34.485]\n",
      " [36.575 43.016]\n",
      " [38.19  40.692]\n",
      " [31.277 30.948]\n",
      " [32.778 30.292]\n",
      " [24.824 24.347]\n",
      " [29.624 27.047]\n",
      " [30.777 35.401]\n",
      " [34.095 32.051]\n",
      " [34.001 31.583]\n",
      " [33.358 28.108]\n",
      " [27.06  29.942]\n",
      " [43.811 61.887]\n",
      " [36.619 45.489]\n",
      " [37.584 45.738]\n",
      " [33.577 29.38 ]\n",
      " [37.397 35.865]\n",
      " [39.674 41.051]\n",
      " [36.69  53.833]\n",
      " [34.835 38.711]\n",
      " [35.32  40.082]\n",
      " [33.005 30.46 ]\n",
      " [19.1   37.058]\n",
      " [32.572 31.012]\n",
      " [39.486 57.398]\n",
      " [34.2   31.273]\n",
      " [39.604 43.079]\n",
      " [39.192 50.286]\n",
      " [32.149 33.316]\n",
      " [39.243 44.423]\n",
      " [37.685 40.808]\n",
      " [26.119 30.116]\n",
      " [29.839 31.754]\n",
      " [27.67  36.727]\n",
      " [30.783 28.867]\n",
      " [32.843 32.748]\n",
      " [34.375 41.608]\n",
      " [32.545 28.409]\n",
      " [31.445 31.65 ]\n",
      " [33.049 40.025]\n",
      " [31.805 37.939]\n",
      " [29.496 27.403]\n",
      " [29.714 35.42 ]\n",
      " [30.963 30.994]\n",
      " [36.478 41.495]\n",
      " [25.096 29.583]\n",
      " [31.592 29.986]\n",
      " [34.682 30.32 ]\n",
      " [40.25  49.117]\n",
      " [30.628 32.184]\n",
      " [32.193 28.608]\n",
      " [30.857 31.693]\n",
      " [35.499 41.133]\n",
      " [19.282 24.373]\n",
      " [41.392 59.331]\n",
      " [33.513 35.994]\n",
      " [31.059 23.961]\n",
      " [27.658 55.464]\n",
      " [33.743 43.294]\n",
      " [32.788 40.055]\n",
      " [34.241 29.54 ]\n",
      " [36.496 58.137]\n",
      " [31.026 28.05 ]\n",
      " [31.12  33.019]\n",
      " [29.289 26.985]\n",
      " [35.004 34.876]\n",
      " [37.546 44.573]\n",
      " [28.41  29.308]\n",
      " [34.498 35.573]\n",
      " [36.139 32.836]\n",
      " [34.384 33.763]\n",
      " [37.81  38.247]\n",
      " [34.425 37.781]\n",
      " [32.177 36.886]\n",
      " [37.651 38.637]\n",
      " [33.482 32.988]\n",
      " [32.868 28.581]\n",
      " [25.574 30.713]\n",
      " [39.295 46.56 ]\n",
      " [32.513 39.892]\n",
      " [39.326 55.242]\n",
      " [30.066 29.785]\n",
      " [30.353 30.68 ]\n",
      " [36.717 34.75 ]\n",
      " [39.111 45.719]\n",
      " [26.586 29.769]\n",
      " [32.839 28.344]\n",
      " [34.093 40.311]\n",
      " [38.189 47.023]\n",
      " [31.771 29.574]\n",
      " [34.635 27.762]\n",
      " [29.554 30.813]\n",
      " [26.792 30.804]\n",
      " [38.095 47.477]\n",
      " [34.097 32.067]\n",
      " [37.526 54.449]\n",
      " [37.891 47.787]\n",
      " [35.243 41.485]\n",
      " [13.433 22.298]\n",
      " [32.577 29.169]\n",
      " [27.376 31.785]\n",
      " [35.402 39.255]\n",
      " [35.129 42.057]\n",
      " [32.562 27.412]\n",
      " [34.647 32.25 ]\n",
      " [30.053 28.479]\n",
      " [31.148 28.908]\n",
      " [30.625 28.966]\n",
      " [31.504 33.949]\n",
      " [34.426 27.082]\n",
      " [37.874 41.987]\n",
      " [31.79  30.12 ]\n",
      " [29.908 33.385]\n",
      " [31.161 28.601]\n",
      " [33.417 32.398]\n",
      " [31.178 30.721]\n",
      " [32.115 38.617]\n",
      " [33.729 40.193]\n",
      " [36.789 45.866]\n",
      " [39.758 43.269]\n",
      " [31.139 32.985]\n",
      " [30.611 35.013]\n",
      " [30.819 27.517]\n",
      " [34.028 33.452]\n",
      " [32.256 24.989]\n",
      " [36.763 45.54 ]\n",
      " [30.282 27.459]\n",
      " [28.007 28.66 ]\n",
      " [32.721 34.153]\n",
      " [35.434 43.677]\n",
      " [28.542 31.104]\n",
      " [36.585 43.622]\n",
      " [38.572 44.56 ]\n",
      " [29.836 26.234]\n",
      " [34.143 33.84 ]\n",
      " [35.844 42.835]\n",
      " [36.538 42.585]\n",
      " [34.617 39.469]\n",
      " [30.409 56.815]\n",
      " [31.504 29.553]\n",
      " [37.005 52.983]\n",
      " [33.509 35.732]\n",
      " [32.02  36.935]\n",
      " [34.694 38.963]\n",
      " [29.816 27.13 ]\n",
      " [30.548 31.166]\n",
      " [33.816 34.29 ]\n",
      " [38.344 43.112]\n",
      " [40.028 41.321]\n",
      " [32.241 26.631]\n",
      " [29.547 27.989]\n",
      " [31.696 32.613]\n",
      " [24.391 26.09 ]\n",
      " [34.803 37.996]\n",
      " [35.348 53.921]\n",
      " [35.97  39.418]\n",
      " [32.675 38.158]\n",
      " [31.339 36.077]\n",
      " [40.432 47.577]\n",
      " [28.904 27.666]\n",
      " [36.015 36.102]\n",
      " [32.954 40.983]\n",
      " [36.985 52.789]\n",
      " [33.32  32.636]\n",
      " [32.731 26.814]\n",
      " [28.233 34.291]\n",
      " [33.545 37.037]\n",
      " [28.93  26.346]\n",
      " [32.404 33.162]\n",
      " [37.102 43.614]\n",
      " [29.683 32.553]\n",
      " [29.922 41.079]\n",
      " [36.369 31.964]\n",
      " [33.731 36.094]\n",
      " [37.549 50.507]\n",
      " [37.346 42.163]\n",
      " [38.925 45.687]\n",
      " [27.081 32.602]\n",
      " [32.67  28.138]\n",
      " [31.798 25.67 ]\n",
      " [39.707 55.901]]       Fitness  Fatigue\n",
      "484      36.8     22.8\n",
      "542      37.4     36.3\n",
      "723      38.4     34.3\n",
      "438      41.7     39.1\n",
      "716      40.1     38.7\n",
      "...       ...      ...\n",
      "174      42.1     55.7\n",
      "1163     28.2     32.7\n",
      "642      25.4     17.3\n",
      "940      27.0     17.6\n",
      "1120     39.4     29.8\n",
      "\n",
      "[185 rows x 2 columns]\n"
     ]
    }
   ],
   "source": [
    "print(y_pred, y_test)"
   ]
  },
  {
   "cell_type": "code",
   "execution_count": 37,
   "metadata": {},
   "outputs": [
    {
     "name": "stderr",
     "output_type": "stream",
     "text": [
      "  0%|          | 0/5 [00:00<?, ?it/s]"
     ]
    },
    {
     "data": {
      "application/vnd.jupyter.widget-view+json": {
       "model_id": "a71bfc7736e047df8470378bf93b0268",
       "version_major": 2,
       "version_minor": 0
      },
      "text/plain": [
       "Optimization Progress:   0%|          | 0/120 [00:00<?, ?pipeline/s]"
      ]
     },
     "metadata": {},
     "output_type": "display_data"
    },
    {
     "name": "stderr",
     "output_type": "stream",
     "text": [
      "  0%|          | 0/5 [00:29<?, ?it/s]"
     ]
    },
    {
     "name": "stdout",
     "output_type": "stream",
     "text": [
      "\n",
      "Generation 1 - Current best internal CV score: -6.328491763474665\n"
     ]
    },
    {
     "name": "stderr",
     "output_type": "stream",
     "text": [
      "  0%|          | 0/5 [00:49<?, ?it/s]"
     ]
    },
    {
     "name": "stdout",
     "output_type": "stream",
     "text": [
      "\n",
      "Generation 2 - Current best internal CV score: -6.323668438786429\n"
     ]
    },
    {
     "name": "stderr",
     "output_type": "stream",
     "text": [
      "  0%|          | 0/5 [01:05<?, ?it/s]"
     ]
    },
    {
     "name": "stdout",
     "output_type": "stream",
     "text": [
      "\n",
      "Generation 3 - Current best internal CV score: -6.323668438786429\n"
     ]
    },
    {
     "name": "stderr",
     "output_type": "stream",
     "text": [
      "  0%|          | 0/5 [01:12<?, ?it/s]"
     ]
    },
    {
     "name": "stdout",
     "output_type": "stream",
     "text": [
      "\n",
      "Generation 4 - Current best internal CV score: -6.323668438786429\n"
     ]
    },
    {
     "name": "stderr",
     "output_type": "stream",
     "text": [
      "  0%|          | 0/5 [01:19<?, ?it/s]"
     ]
    },
    {
     "name": "stdout",
     "output_type": "stream",
     "text": [
      "\n",
      "Generation 5 - Current best internal CV score: -6.311889258742509\n",
      "\n",
      "Best pipeline: ElasticNetCV(LinearSVR(input_matrix, C=15.0, dual=False, epsilon=0.001, loss=squared_epsilon_insensitive, tol=0.1), l1_ratio=0.15000000000000002, tol=0.0001)\n"
     ]
    },
    {
     "name": "stderr",
     "output_type": "stream",
     "text": [
      " 20%|██        | 1/5 [01:19<05:18, 79.63s/it]"
     ]
    },
    {
     "data": {
      "application/vnd.jupyter.widget-view+json": {
       "model_id": "36c3a64cfa0a48bdb0824f340178ccfa",
       "version_major": 2,
       "version_minor": 0
      },
      "text/plain": [
       "Optimization Progress:   0%|          | 0/120 [00:00<?, ?pipeline/s]"
      ]
     },
     "metadata": {},
     "output_type": "display_data"
    },
    {
     "name": "stderr",
     "output_type": "stream",
     "text": [
      " 20%|██        | 1/5 [01:54<05:18, 79.63s/it]"
     ]
    },
    {
     "name": "stdout",
     "output_type": "stream",
     "text": [
      "\n",
      "Generation 1 - Current best internal CV score: -6.290741056090961\n"
     ]
    },
    {
     "name": "stderr",
     "output_type": "stream",
     "text": [
      " 20%|██        | 1/5 [02:16<05:18, 79.63s/it]"
     ]
    },
    {
     "name": "stdout",
     "output_type": "stream",
     "text": [
      "\n",
      "Generation 2 - Current best internal CV score: -6.290741056090961\n"
     ]
    },
    {
     "name": "stderr",
     "output_type": "stream",
     "text": [
      " 20%|██        | 1/5 [02:33<05:18, 79.63s/it]"
     ]
    },
    {
     "name": "stdout",
     "output_type": "stream",
     "text": [
      "\n",
      "Generation 3 - Current best internal CV score: -6.254614413642118\n"
     ]
    },
    {
     "name": "stderr",
     "output_type": "stream",
     "text": [
      " 20%|██        | 1/5 [02:53<05:18, 79.63s/it]"
     ]
    },
    {
     "name": "stdout",
     "output_type": "stream",
     "text": [
      "\n",
      "Generation 4 - Current best internal CV score: -5.363492107992376\n"
     ]
    },
    {
     "name": "stderr",
     "output_type": "stream",
     "text": [
      " 20%|██        | 1/5 [03:26<05:18, 79.63s/it]"
     ]
    },
    {
     "name": "stdout",
     "output_type": "stream",
     "text": [
      "\n",
      "Generation 5 - Current best internal CV score: -5.361275595528285\n",
      "\n",
      "Best pipeline: ElasticNetCV(PolynomialFeatures(input_matrix, degree=2, include_bias=False, interaction_only=False), l1_ratio=0.15000000000000002, tol=0.001)\n"
     ]
    },
    {
     "name": "stderr",
     "output_type": "stream",
     "text": [
      " 40%|████      | 2/5 [03:28<05:25, 108.52s/it]"
     ]
    },
    {
     "data": {
      "application/vnd.jupyter.widget-view+json": {
       "model_id": "13515a3cac2142989825b248d3564c4f",
       "version_major": 2,
       "version_minor": 0
      },
      "text/plain": [
       "Optimization Progress:   0%|          | 0/120 [00:00<?, ?pipeline/s]"
      ]
     },
     "metadata": {},
     "output_type": "display_data"
    },
    {
     "name": "stderr",
     "output_type": "stream",
     "text": [
      " 40%|████      | 2/5 [04:05<05:25, 108.52s/it]"
     ]
    },
    {
     "name": "stdout",
     "output_type": "stream",
     "text": [
      "\n",
      "Generation 1 - Current best internal CV score: -6.335380170767594\n"
     ]
    },
    {
     "name": "stderr",
     "output_type": "stream",
     "text": [
      " 40%|████      | 2/5 [04:31<05:25, 108.52s/it]"
     ]
    },
    {
     "name": "stdout",
     "output_type": "stream",
     "text": [
      "\n",
      "Generation 2 - Current best internal CV score: -6.335380170767594\n"
     ]
    },
    {
     "name": "stderr",
     "output_type": "stream",
     "text": [
      " 40%|████      | 2/5 [04:46<05:25, 108.52s/it]"
     ]
    },
    {
     "name": "stdout",
     "output_type": "stream",
     "text": [
      "\n",
      "Generation 3 - Current best internal CV score: -6.323670138163768\n"
     ]
    },
    {
     "name": "stderr",
     "output_type": "stream",
     "text": [
      " 40%|████      | 2/5 [05:02<05:25, 108.52s/it]"
     ]
    },
    {
     "name": "stdout",
     "output_type": "stream",
     "text": [
      "\n",
      "Generation 4 - Current best internal CV score: -6.31718347193854\n"
     ]
    },
    {
     "name": "stderr",
     "output_type": "stream",
     "text": [
      " 60%|██████    | 3/5 [05:14<03:35, 107.60s/it]"
     ]
    },
    {
     "name": "stdout",
     "output_type": "stream",
     "text": [
      "\n",
      "Generation 5 - Current best internal CV score: -6.31718347193854\n",
      "\n",
      "Best pipeline: ElasticNetCV(CombineDFs(input_matrix, input_matrix), l1_ratio=0.1, tol=0.01)\n"
     ]
    },
    {
     "data": {
      "application/vnd.jupyter.widget-view+json": {
       "model_id": "daca9a761ddd434e84a7c34ca03a644a",
       "version_major": 2,
       "version_minor": 0
      },
      "text/plain": [
       "Optimization Progress:   0%|          | 0/120 [00:00<?, ?pipeline/s]"
      ]
     },
     "metadata": {},
     "output_type": "display_data"
    },
    {
     "name": "stderr",
     "output_type": "stream",
     "text": [
      " 60%|██████    | 3/5 [05:50<03:35, 107.60s/it]"
     ]
    },
    {
     "name": "stdout",
     "output_type": "stream",
     "text": [
      "\n",
      "Generation 1 - Current best internal CV score: -6.306474623656532\n"
     ]
    },
    {
     "name": "stderr",
     "output_type": "stream",
     "text": [
      " 60%|██████    | 3/5 [06:19<03:35, 107.60s/it]"
     ]
    },
    {
     "name": "stdout",
     "output_type": "stream",
     "text": [
      "\n",
      "Generation 2 - Current best internal CV score: -6.30221632351313\n"
     ]
    },
    {
     "name": "stderr",
     "output_type": "stream",
     "text": [
      " 60%|██████    | 3/5 [06:35<03:35, 107.60s/it]"
     ]
    },
    {
     "name": "stdout",
     "output_type": "stream",
     "text": [
      "\n",
      "Generation 3 - Current best internal CV score: -6.30221632351313\n"
     ]
    },
    {
     "name": "stderr",
     "output_type": "stream",
     "text": [
      " 60%|██████    | 3/5 [06:49<03:35, 107.60s/it]"
     ]
    },
    {
     "name": "stdout",
     "output_type": "stream",
     "text": [
      "\n",
      "Generation 4 - Current best internal CV score: -6.30221632351313\n"
     ]
    },
    {
     "name": "stderr",
     "output_type": "stream",
     "text": [
      " 60%|██████    | 3/5 [06:58<03:35, 107.60s/it]"
     ]
    },
    {
     "name": "stdout",
     "output_type": "stream",
     "text": [
      "\n",
      "Generation 5 - Current best internal CV score: -6.260175657173476\n",
      "\n",
      "Best pipeline: LassoLarsCV(ExtraTreesRegressor(LassoLarsCV(input_matrix, normalize=False), bootstrap=False, max_features=0.55, min_samples_leaf=11, min_samples_split=20, n_estimators=100), normalize=False)\n"
     ]
    },
    {
     "name": "stderr",
     "output_type": "stream",
     "text": [
      " 80%|████████  | 4/5 [06:58<01:46, 106.09s/it]"
     ]
    },
    {
     "data": {
      "application/vnd.jupyter.widget-view+json": {
       "model_id": "be9199f45e444d6c88430d7020296cd5",
       "version_major": 2,
       "version_minor": 0
      },
      "text/plain": [
       "Optimization Progress:   0%|          | 0/120 [00:00<?, ?pipeline/s]"
      ]
     },
     "metadata": {},
     "output_type": "display_data"
    },
    {
     "name": "stderr",
     "output_type": "stream",
     "text": [
      " 80%|████████  | 4/5 [07:32<01:46, 106.09s/it]"
     ]
    },
    {
     "name": "stdout",
     "output_type": "stream",
     "text": [
      "\n",
      "Generation 1 - Current best internal CV score: -6.33228688052282\n"
     ]
    },
    {
     "name": "stderr",
     "output_type": "stream",
     "text": [
      " 80%|████████  | 4/5 [08:04<01:46, 106.09s/it]"
     ]
    },
    {
     "name": "stdout",
     "output_type": "stream",
     "text": [
      "\n",
      "Generation 2 - Current best internal CV score: -6.33228688052282\n"
     ]
    },
    {
     "name": "stderr",
     "output_type": "stream",
     "text": [
      " 80%|████████  | 4/5 [08:21<01:46, 106.09s/it]"
     ]
    },
    {
     "name": "stdout",
     "output_type": "stream",
     "text": [
      "\n",
      "Generation 3 - Current best internal CV score: -6.317321964751938\n"
     ]
    },
    {
     "name": "stderr",
     "output_type": "stream",
     "text": [
      " 80%|████████  | 4/5 [08:34<01:46, 106.09s/it]"
     ]
    },
    {
     "name": "stdout",
     "output_type": "stream",
     "text": [
      "\n",
      "Generation 4 - Current best internal CV score: -6.316160050207998\n"
     ]
    },
    {
     "name": "stderr",
     "output_type": "stream",
     "text": [
      " 80%|████████  | 4/5 [08:52<01:46, 106.09s/it]"
     ]
    },
    {
     "name": "stdout",
     "output_type": "stream",
     "text": [
      "\n",
      "Generation 5 - Current best internal CV score: -5.909371202238718\n",
      "\n",
      "Best pipeline: ElasticNetCV(PolynomialFeatures(ElasticNetCV(input_matrix, l1_ratio=0.45, tol=0.0001), degree=2, include_bias=False, interaction_only=False), l1_ratio=0.15000000000000002, tol=0.1)\n"
     ]
    },
    {
     "name": "stderr",
     "output_type": "stream",
     "text": [
      "100%|██████████| 5/5 [08:53<00:00, 106.64s/it]"
     ]
    },
    {
     "name": "stdout",
     "output_type": "stream",
     "text": [
      "MSE: 5.101361726069388\n",
      "Pipeline(steps=[('stackingestimator',\n",
      "                 StackingEstimator(estimator=ElasticNetCV(l1_ratio=0.45))),\n",
      "                ('polynomialfeatures', PolynomialFeatures(include_bias=False)),\n",
      "                ('elasticnetcv',\n",
      "                 ElasticNetCV(l1_ratio=0.15000000000000002, tol=0.1))])\n"
     ]
    },
    {
     "name": "stderr",
     "output_type": "stream",
     "text": [
      "\n",
      "C:\\Users\\chach\\AppData\\Local\\Packages\\PythonSoftwareFoundation.Python.3.10_qbz5n2kfra8p0\\LocalCache\\local-packages\\Python310\\site-packages\\sklearn\\base.py:450: UserWarning: X does not have valid feature names, but ElasticNetCV was fitted with feature names\n",
      "  warnings.warn(\n"
     ]
    }
   ],
   "source": [
    "from tpot import TPOTRegressor\n",
    "from tqdm import tqdm\n",
    "\n",
    "# Split data into X and y\n",
    "X = df_model[['Distance', 'Fréquence cardiaque moyenne', \"Durée de déplacement\", \"Cadence moyenne\", \"Puissance moyenne pondérée\", 'intensity_score',\n",
    "       \"Mesure d'effort\", 'TSS', 'HRR', 'trimp', 'HRSS', 'Fitness', 'Fatigue']]\n",
    "y = df_model['Form']\n",
    "\n",
    "# Split into training and testing sets\n",
    "X_train, X_test, y_train, y_test = train_test_split(X, y, test_size=0.3, random_state=42)\n",
    "\n",
    "# Initialize TPOT regressor\n",
    "tpot = TPOTRegressor(generations=5, population_size=20, verbosity=2)\n",
    "\n",
    "# Fit TPOT regressor\n",
    "with tqdm(total=tpot.generations) as pbar:\n",
    "    for i in range(tpot.generations):\n",
    "        tpot.fit(X_train, y_train)\n",
    "        tpot.evaluated_individuals_\n",
    "        tpot.export('tpot_pipeline.py')\n",
    "        pbar.update(1)\n",
    "\n",
    "# Score TPOT regressor\n",
    "mse = mean_squared_error(y_test, tpot.predict(X_test))\n",
    "print('MSE:', mse)\n",
    "\n",
    "# Print best pipeline\n",
    "print(tpot.fitted_pipeline_)\n"
   ]
  },
  {
   "cell_type": "code",
   "execution_count": 28,
   "metadata": {},
   "outputs": [
    {
     "name": "stdout",
     "output_type": "stream",
     "text": [
      "Pipeline(steps=[('polynomialfeatures', PolynomialFeatures(include_bias=False)),\n",
      "                ('elasticnetcv', ElasticNetCV(l1_ratio=0.9, tol=0.01))])\n"
     ]
    }
   ],
   "source": [
    "# Print best pipeline\n",
    "print(tpot.fitted_pipeline_)"
   ]
  },
  {
   "cell_type": "code",
   "execution_count": 29,
   "metadata": {},
   "outputs": [],
   "source": [
    "# Export the best pipeline as Python code\n",
    "tpot.export('tpot_pipeline.py')"
   ]
  },
  {
   "cell_type": "code",
   "execution_count": 33,
   "metadata": {},
   "outputs": [],
   "source": [
    "import dill\n",
    "# Save the TPOT pipeline as a file\n",
    "with open('tpot_pipeline.pkl', 'wb') as f:\n",
    "    dill.dump(tpot.fitted_pipeline_, f)"
   ]
  },
  {
   "cell_type": "code",
   "execution_count": 34,
   "metadata": {},
   "outputs": [],
   "source": [
    "# Load the saved TPOT pipeline from file\n",
    "with open('tpot_pipeline.pkl', 'rb') as f:\n",
    "    tpot_pipeline = dill.load(f)\n",
    "\n",
    "def predict_fitness_score(distance, av_hr, duration):\n",
    "    # Calculate additional features\n",
    "    speed = distance / duration\n",
    "    power = 2.8 * speed + 0.0098 * (speed ** 3)\n",
    "    \n",
    "    # Create input DataFrame\n",
    "    input_data = pd.DataFrame({\n",
    "        'Distance': [distance],\n",
    "        'Fréquence cardiaque moyenne': [av_hr],\n",
    "        'Durée de déplacement': [duration],\n",
    "        'Vitesse moyenne': [speed],\n",
    "        'Puissance moyenne': [power]\n",
    "    })\n",
    "    \n",
    "    # Make prediction using TPOT pipeline\n",
    "    predicted_fitness = tpot_pipeline.predict(input_data)\n",
    "    \n",
    "    return predicted_fitness[0]\n"
   ]
  },
  {
   "cell_type": "code",
   "execution_count": 35,
   "metadata": {},
   "outputs": [
    {
     "name": "stderr",
     "output_type": "stream",
     "text": [
      "C:\\Users\\chach\\AppData\\Local\\Packages\\PythonSoftwareFoundation.Python.3.10_qbz5n2kfra8p0\\LocalCache\\local-packages\\Python310\\site-packages\\sklearn\\base.py:493: FutureWarning: The feature names should match those that were passed during fit. Starting version 1.2, an error will be raised.\n",
      "Feature names unseen at fit time:\n",
      "- Puissance moyenne\n",
      "Feature names seen at fit time, yet now missing:\n",
      "- Cadence moyenne\n",
      "- Fatigue\n",
      "- Fitness\n",
      "- HRR\n",
      "- HRSS\n",
      "- ...\n",
      "\n",
      "  warnings.warn(message, FutureWarning)\n"
     ]
    },
    {
     "ename": "ValueError",
     "evalue": "X has 5 features, but PolynomialFeatures is expecting 14 features as input.",
     "output_type": "error",
     "traceback": [
      "\u001b[1;31m---------------------------------------------------------------------------\u001b[0m",
      "\u001b[1;31mValueError\u001b[0m                                Traceback (most recent call last)",
      "Cell \u001b[1;32mIn[35], line 1\u001b[0m\n\u001b[1;32m----> 1\u001b[0m predict_fitness_score(\u001b[39m140\u001b[39;49m, \u001b[39m180\u001b[39;49m, \u001b[39m120\u001b[39;49m)\n",
      "Cell \u001b[1;32mIn[34], line 20\u001b[0m, in \u001b[0;36mpredict_fitness_score\u001b[1;34m(distance, av_hr, duration)\u001b[0m\n\u001b[0;32m     11\u001b[0m input_data \u001b[39m=\u001b[39m pd\u001b[39m.\u001b[39mDataFrame({\n\u001b[0;32m     12\u001b[0m     \u001b[39m'\u001b[39m\u001b[39mDistance\u001b[39m\u001b[39m'\u001b[39m: [distance],\n\u001b[0;32m     13\u001b[0m     \u001b[39m'\u001b[39m\u001b[39mFréquence cardiaque moyenne\u001b[39m\u001b[39m'\u001b[39m: [av_hr],\n\u001b[1;32m   (...)\u001b[0m\n\u001b[0;32m     16\u001b[0m     \u001b[39m'\u001b[39m\u001b[39mPuissance moyenne\u001b[39m\u001b[39m'\u001b[39m: [power]\n\u001b[0;32m     17\u001b[0m })\n\u001b[0;32m     19\u001b[0m \u001b[39m# Make prediction using TPOT pipeline\u001b[39;00m\n\u001b[1;32m---> 20\u001b[0m predicted_fitness \u001b[39m=\u001b[39m tpot_pipeline\u001b[39m.\u001b[39;49mpredict(input_data)\n\u001b[0;32m     22\u001b[0m \u001b[39mreturn\u001b[39;00m predicted_fitness[\u001b[39m0\u001b[39m]\n",
      "File \u001b[1;32m~\\AppData\\Local\\Packages\\PythonSoftwareFoundation.Python.3.10_qbz5n2kfra8p0\\LocalCache\\local-packages\\Python310\\site-packages\\sklearn\\pipeline.py:457\u001b[0m, in \u001b[0;36mPipeline.predict\u001b[1;34m(self, X, **predict_params)\u001b[0m\n\u001b[0;32m    455\u001b[0m Xt \u001b[39m=\u001b[39m X\n\u001b[0;32m    456\u001b[0m \u001b[39mfor\u001b[39;00m _, name, transform \u001b[39min\u001b[39;00m \u001b[39mself\u001b[39m\u001b[39m.\u001b[39m_iter(with_final\u001b[39m=\u001b[39m\u001b[39mFalse\u001b[39;00m):\n\u001b[1;32m--> 457\u001b[0m     Xt \u001b[39m=\u001b[39m transform\u001b[39m.\u001b[39;49mtransform(Xt)\n\u001b[0;32m    458\u001b[0m \u001b[39mreturn\u001b[39;00m \u001b[39mself\u001b[39m\u001b[39m.\u001b[39msteps[\u001b[39m-\u001b[39m\u001b[39m1\u001b[39m][\u001b[39m1\u001b[39m]\u001b[39m.\u001b[39mpredict(Xt, \u001b[39m*\u001b[39m\u001b[39m*\u001b[39mpredict_params)\n",
      "File \u001b[1;32m~\\AppData\\Local\\Packages\\PythonSoftwareFoundation.Python.3.10_qbz5n2kfra8p0\\LocalCache\\local-packages\\Python310\\site-packages\\sklearn\\preprocessing\\_polynomial.py:380\u001b[0m, in \u001b[0;36mPolynomialFeatures.transform\u001b[1;34m(self, X)\u001b[0m\n\u001b[0;32m    350\u001b[0m \u001b[39m\"\"\"Transform data to polynomial features.\u001b[39;00m\n\u001b[0;32m    351\u001b[0m \n\u001b[0;32m    352\u001b[0m \u001b[39mParameters\u001b[39;00m\n\u001b[1;32m   (...)\u001b[0m\n\u001b[0;32m    376\u001b[0m \u001b[39m    `csr_matrix`.\u001b[39;00m\n\u001b[0;32m    377\u001b[0m \u001b[39m\"\"\"\u001b[39;00m\n\u001b[0;32m    378\u001b[0m check_is_fitted(\u001b[39mself\u001b[39m)\n\u001b[1;32m--> 380\u001b[0m X \u001b[39m=\u001b[39m \u001b[39mself\u001b[39;49m\u001b[39m.\u001b[39;49m_validate_data(\n\u001b[0;32m    381\u001b[0m     X, order\u001b[39m=\u001b[39;49m\u001b[39m\"\u001b[39;49m\u001b[39mF\u001b[39;49m\u001b[39m\"\u001b[39;49m, dtype\u001b[39m=\u001b[39;49mFLOAT_DTYPES, reset\u001b[39m=\u001b[39;49m\u001b[39mFalse\u001b[39;49;00m, accept_sparse\u001b[39m=\u001b[39;49m(\u001b[39m\"\u001b[39;49m\u001b[39mcsr\u001b[39;49m\u001b[39m\"\u001b[39;49m, \u001b[39m\"\u001b[39;49m\u001b[39mcsc\u001b[39;49m\u001b[39m\"\u001b[39;49m)\n\u001b[0;32m    382\u001b[0m )\n\u001b[0;32m    384\u001b[0m n_samples, n_features \u001b[39m=\u001b[39m X\u001b[39m.\u001b[39mshape\n\u001b[0;32m    386\u001b[0m \u001b[39mif\u001b[39;00m sparse\u001b[39m.\u001b[39misspmatrix_csr(X):\n",
      "File \u001b[1;32m~\\AppData\\Local\\Packages\\PythonSoftwareFoundation.Python.3.10_qbz5n2kfra8p0\\LocalCache\\local-packages\\Python310\\site-packages\\sklearn\\base.py:600\u001b[0m, in \u001b[0;36mBaseEstimator._validate_data\u001b[1;34m(self, X, y, reset, validate_separately, **check_params)\u001b[0m\n\u001b[0;32m    597\u001b[0m     out \u001b[39m=\u001b[39m X, y\n\u001b[0;32m    599\u001b[0m \u001b[39mif\u001b[39;00m \u001b[39mnot\u001b[39;00m no_val_X \u001b[39mand\u001b[39;00m check_params\u001b[39m.\u001b[39mget(\u001b[39m\"\u001b[39m\u001b[39mensure_2d\u001b[39m\u001b[39m\"\u001b[39m, \u001b[39mTrue\u001b[39;00m):\n\u001b[1;32m--> 600\u001b[0m     \u001b[39mself\u001b[39;49m\u001b[39m.\u001b[39;49m_check_n_features(X, reset\u001b[39m=\u001b[39;49mreset)\n\u001b[0;32m    602\u001b[0m \u001b[39mreturn\u001b[39;00m out\n",
      "File \u001b[1;32m~\\AppData\\Local\\Packages\\PythonSoftwareFoundation.Python.3.10_qbz5n2kfra8p0\\LocalCache\\local-packages\\Python310\\site-packages\\sklearn\\base.py:400\u001b[0m, in \u001b[0;36mBaseEstimator._check_n_features\u001b[1;34m(self, X, reset)\u001b[0m\n\u001b[0;32m    397\u001b[0m     \u001b[39mreturn\u001b[39;00m\n\u001b[0;32m    399\u001b[0m \u001b[39mif\u001b[39;00m n_features \u001b[39m!=\u001b[39m \u001b[39mself\u001b[39m\u001b[39m.\u001b[39mn_features_in_:\n\u001b[1;32m--> 400\u001b[0m     \u001b[39mraise\u001b[39;00m \u001b[39mValueError\u001b[39;00m(\n\u001b[0;32m    401\u001b[0m         \u001b[39mf\u001b[39m\u001b[39m\"\u001b[39m\u001b[39mX has \u001b[39m\u001b[39m{\u001b[39;00mn_features\u001b[39m}\u001b[39;00m\u001b[39m features, but \u001b[39m\u001b[39m{\u001b[39;00m\u001b[39mself\u001b[39m\u001b[39m.\u001b[39m\u001b[39m__class__\u001b[39m\u001b[39m.\u001b[39m\u001b[39m__name__\u001b[39m\u001b[39m}\u001b[39;00m\u001b[39m \u001b[39m\u001b[39m\"\u001b[39m\n\u001b[0;32m    402\u001b[0m         \u001b[39mf\u001b[39m\u001b[39m\"\u001b[39m\u001b[39mis expecting \u001b[39m\u001b[39m{\u001b[39;00m\u001b[39mself\u001b[39m\u001b[39m.\u001b[39mn_features_in_\u001b[39m}\u001b[39;00m\u001b[39m features as input.\u001b[39m\u001b[39m\"\u001b[39m\n\u001b[0;32m    403\u001b[0m     )\n",
      "\u001b[1;31mValueError\u001b[0m: X has 5 features, but PolynomialFeatures is expecting 14 features as input."
     ]
    }
   ],
   "source": [
    "predict_fitness_score(140, 180, 120)"
   ]
  },
  {
   "cell_type": "code",
   "execution_count": null,
   "metadata": {},
   "outputs": [],
   "source": []
  }
 ],
 "metadata": {
  "kernelspec": {
   "display_name": "Python 3",
   "language": "python",
   "name": "python3"
  },
  "language_info": {
   "codemirror_mode": {
    "name": "ipython",
    "version": 3
   },
   "file_extension": ".py",
   "mimetype": "text/x-python",
   "name": "python",
   "nbconvert_exporter": "python",
   "pygments_lexer": "ipython3",
   "version": "3.10.10"
  },
  "orig_nbformat": 4
 },
 "nbformat": 4,
 "nbformat_minor": 2
}
